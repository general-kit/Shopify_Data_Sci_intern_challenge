{
 "cells": [
  {
   "cell_type": "code",
   "execution_count": 302,
   "metadata": {},
   "outputs": [],
   "source": [
    "#import pandas library to be used\n",
    "import pandas as pd\n",
    "import matplotlib.pyplot as plt"
   ]
  },
  {
   "cell_type": "markdown",
   "metadata": {},
   "source": [
    "# Fall 2021 Data Science Intern Challenge "
   ]
  },
  {
   "cell_type": "markdown",
   "metadata": {},
   "source": [
    "# Assumptions:\n",
    "#Data set is as is and does not have any issues:\n",
    "No issues such as formatting, lack of headers and incorrect data types, headers were verified in the excel spreadsheet\n",
    "\n",
    "#All data in the imported set is valid for importation purposes.\n",
    "\n",
    "#All order amount values are in the same currency.\n",
    "\n",
    "\n",
    "#All shop_ids and user_ids have been entered correctly.\n",
    "\n",
    "#Some tasks were performed outside of this python script, for information that was easily analysed from the google docs file, using excel formulas and sorting the data such as:\n",
    "\n",
    "#Date range verification - all dates are in march of the same year.\n",
    "\n",
    "#Some resources used to solve this problem:\n",
    "#https://www.shopify.ca/blog/average-order-value\n",
    "#https://www.optimizely.com/optimization-glossary/average-order-value/\n",
    "#https://www.bigcommerce.ca/ecommerce-answers/what-average-order-value/"
   ]
  },
  {
   "cell_type": "code",
   "execution_count": 260,
   "metadata": {},
   "outputs": [
    {
     "name": "stdout",
     "output_type": "stream",
     "text": [
      "This is the data set being used:\n",
      "       order_id  shop_id  user_id  order_amount  total_items payment_method  \\\n",
      "0            1       53      746           224            2           cash   \n",
      "1            2       92      925            90            1           cash   \n",
      "2            3       44      861           144            1           cash   \n",
      "3            4       18      935           156            1    credit_card   \n",
      "4            5       18      883           156            1    credit_card   \n",
      "...        ...      ...      ...           ...          ...            ...   \n",
      "4995      4996       73      993           330            2          debit   \n",
      "4996      4997       48      789           234            2           cash   \n",
      "4997      4998       56      867           351            3           cash   \n",
      "4998      4999       60      825           354            2    credit_card   \n",
      "4999      5000       44      734           288            2          debit   \n",
      "\n",
      "               created_at  \n",
      "0     2017-03-13 12:36:56  \n",
      "1     2017-03-03 17:38:52  \n",
      "2      2017-03-14 4:23:56  \n",
      "3     2017-03-26 12:43:37  \n",
      "4      2017-03-01 4:35:11  \n",
      "...                   ...  \n",
      "4995  2017-03-30 13:47:17  \n",
      "4996  2017-03-16 20:36:16  \n",
      "4997   2017-03-19 5:42:42  \n",
      "4998  2017-03-16 14:51:18  \n",
      "4999  2017-03-18 15:48:18  \n",
      "\n",
      "[5000 rows x 7 columns] \n",
      "\n"
     ]
    }
   ],
   "source": [
    "#define the list of the dataset from the google docs file\n",
    "data_source = \"https://docs.google.com/spreadsheets/d/16i38oonuX1y1g7C_UAmiK9GkY7cS-64DfiDMNiR41LM/export?format=csv&gid=0\"\n",
    "\n",
    "#import data as a csv\n",
    "data_set = pd.read_csv(data_source)\n",
    "\n",
    "print(\"This is the data set being used:\\n\", data_set, \"\\n\")"
   ]
  },
  {
   "cell_type": "markdown",
   "metadata": {},
   "source": [
    "#The above code shows that there are 5000 rows of data ant 7 columns, with the correct headers, verifying the data was imported correctly from the google docs file"
   ]
  },
  {
   "cell_type": "code",
   "execution_count": 266,
   "metadata": {},
   "outputs": [],
   "source": [
    "#given the somewhat large data set, convert from a dictionary to data frame\n",
    "data_set = pd.DataFrame(data_set)"
   ]
  },
  {
   "cell_type": "code",
   "execution_count": 268,
   "metadata": {},
   "outputs": [],
   "source": [
    "#calculate an integer value for the number of rows (orders) in the data set to be used for future calculations\n",
    "num_orders = len(data_set)\n",
    "\n",
    "#calculate an integer value for the revenue\n",
    "total_rev = sum(data_set.order_amount)"
   ]
  },
  {
   "cell_type": "code",
   "execution_count": 269,
   "metadata": {},
   "outputs": [
    {
     "name": "stdout",
     "output_type": "stream",
     "text": [
      "\n",
      "AOV = 3145.128\n"
     ]
    }
   ],
   "source": [
    "AOV = total_rev / num_orders\n",
    "print(\"\\nAOV =\", AOV)\n"
   ]
  },
  {
   "cell_type": "markdown",
   "metadata": {},
   "source": [
    "# Analysing the Data"
   ]
  },
  {
   "cell_type": "markdown",
   "metadata": {},
   "source": [
    "#The average order value is verified to have been calculated correctly, with a rounded value of $3145, as in the problem defintion. With this, I can rule out the possibility of any arithmetic issues.\n",
    "\n",
    "#However, it is known that there is an issue with the data (from the problem statement), so first thing to do is ensure the data is valid by analysing the relevant columns.\n",
    "#The shop_ids and the user_ids are correct, so is the created_at date\n",
    "\n",
    "#I will now check the following respectively:\n",
    "\n",
    "#1. order_id: To ensure that they are unique\n",
    "\n",
    "#2. price, using order_amount and total_items to calculate the unit price for analysis\n",
    "\n",
    "#3. quantity of items ordered\n",
    "\n",
    "#After this, I will recalculate the AOV and look at other values that can be used to measure the business growth, comparing them to the original data set and the corrected data set"
   ]
  },
  {
   "cell_type": "markdown",
   "metadata": {},
   "source": [
    "# 1. Validating the order_ids"
   ]
  },
  {
   "cell_type": "code",
   "execution_count": 361,
   "metadata": {},
   "outputs": [
    {
     "name": "stdout",
     "output_type": "stream",
     "text": [
      "\n",
      "There are not duplicates in the order_id\n",
      "\n"
     ]
    }
   ],
   "source": [
    "#1. Validating that the order_ids are unique\n",
    "val_order_id_set = set(data_set.order_id)\n",
    "if len(val_order_id_set) != len(data_set.order_id):\n",
    "    print(\"\\nDuplicates exist\\n\")\n",
    "else: print(\"\\nThere are not duplicates in the order_id\\n\")"
   ]
  },
  {
   "cell_type": "markdown",
   "metadata": {},
   "source": [
    "# 2. Analysing the price"
   ]
  },
  {
   "cell_type": "code",
   "execution_count": 362,
   "metadata": {},
   "outputs": [],
   "source": [
    "#2. To analyse the price, I will breakdown the order_amount to unit_price\n",
    "#This will tell me the price charged for a single shoe for each order\n",
    "#allowing a better understanding of the data set\n",
    "\n",
    "unit_price = data_set.order_amount / data_set.total_items"
   ]
  },
  {
   "cell_type": "code",
   "execution_count": 363,
   "metadata": {},
   "outputs": [
    {
     "name": "stdout",
     "output_type": "stream",
     "text": [
      "\n",
      "This is the new data_set with the unit price of a shoe included:\n",
      "       order_id  shop_id  user_id  order_amount  total_items payment_method  \\\n",
      "0            1       53      746           224            2           cash   \n",
      "1            2       92      925            90            1           cash   \n",
      "2            3       44      861           144            1           cash   \n",
      "3            4       18      935           156            1    credit_card   \n",
      "4            5       18      883           156            1    credit_card   \n",
      "...        ...      ...      ...           ...          ...            ...   \n",
      "4995      4996       73      993           330            2          debit   \n",
      "4996      4997       48      789           234            2           cash   \n",
      "4997      4998       56      867           351            3           cash   \n",
      "4998      4999       60      825           354            2    credit_card   \n",
      "4999      5000       44      734           288            2          debit   \n",
      "\n",
      "               created_at  unit_price  \n",
      "0     2017-03-13 12:36:56       112.0  \n",
      "1     2017-03-03 17:38:52        90.0  \n",
      "2      2017-03-14 4:23:56       144.0  \n",
      "3     2017-03-26 12:43:37       156.0  \n",
      "4      2017-03-01 4:35:11       156.0  \n",
      "...                   ...         ...  \n",
      "4995  2017-03-30 13:47:17       165.0  \n",
      "4996  2017-03-16 20:36:16       117.0  \n",
      "4997   2017-03-19 5:42:42       117.0  \n",
      "4998  2017-03-16 14:51:18       177.0  \n",
      "4999  2017-03-18 15:48:18       144.0  \n",
      "\n",
      "[5000 rows x 8 columns]\n"
     ]
    }
   ],
   "source": [
    "#update the data set to include the unit_cost\n",
    "data_set['unit_price'] = unit_price\n",
    "\n",
    "#Verify the data set\n",
    "print(\"\\nThis is the new data_set with the unit price of a shoe included:\\n\",data_set)"
   ]
  },
  {
   "cell_type": "markdown",
   "metadata": {},
   "source": [
    "#The data set includes the unit price now.\n",
    "\n",
    "#To visualise the data better (instead of going through each row) I will plot the unit_price against shop_id\n",
    "\n",
    "#NOTE: In excel, I sorted by unit price and noticed there was an abnormally high unit price\n",
    "\n",
    "#This plot here is to visualise the data for better understanding"
   ]
  },
  {
   "cell_type": "code",
   "execution_count": 364,
   "metadata": {},
   "outputs": [
    {
     "data": {
      "text/plain": [
       "<AxesSubplot:xlabel='shop_id', ylabel='unit_price'>"
      ]
     },
     "execution_count": 364,
     "metadata": {},
     "output_type": "execute_result"
    },
    {
     "data": {
      "image/png": "[encoded data removed]",
      "text/plain": [
       "<Figure size 432x288 with 1 Axes>"
      ]
     },
     "metadata": {
      "needs_background": "light"
     },
     "output_type": "display_data"
    }
   ],
   "source": [
    "#Each shop, since selling only one model of shoe charges the same price for that shoe\n",
    "#NOTE: I chose to plot the unit_price against the shop_id because there are only 100 shops\n",
    "#giving me an independent variable with fixed values.\n",
    "\n",
    "data_set.plot(x ='shop_id', y='unit_price', kind = 'scatter')"
   ]
  },
  {
   "cell_type": "markdown",
   "metadata": {},
   "source": [
    "#From this plot, we can see that there is a single major outlier in the data set, where the price is about 25000 per unit (for a shoe)."
   ]
  },
  {
   "cell_type": "markdown",
   "metadata": {},
   "source": [
    "#I will now filter for the shop_ids that have the unit price >20000 (using the data from the plot)\n",
    "#and group them by unit_price and shop_id"
   ]
  },
  {
   "cell_type": "code",
   "execution_count": 365,
   "metadata": {},
   "outputs": [
    {
     "name": "stdout",
     "output_type": "stream",
     "text": [
      "shop_id  unit_price\n",
      "78       25725.0       46\n",
      "Name: shop_id, dtype: int64\n"
     ]
    }
   ],
   "source": [
    "unit_price_large = data_set.loc[data_set.unit_price > 20000]\n",
    "\n",
    "unit_price_large_grouped = unit_price_large.groupby([\"shop_id\", \"unit_price\"])[\"shop_id\"].count()\n",
    "print(unit_price_large_grouped)"
   ]
  },
  {
   "cell_type": "markdown",
   "metadata": {},
   "source": [
    "#From the data set grouped by unit price and shop id, it shows that the unit_price of 25725 appears to  be incorrect or a unique outlier\n",
    "#This also corellates with the shop ID 78 only, showing that only this shop has the issue\n",
    "#in the data set, which I will exclude for purposes of accuracy, given how large it is compared to the other values\n",
    "\n",
    "#NOTE: This step assumes that the unit_price of 25725 is either incorrect - from a bug, from incorrect data entry or a unique outlier\n",
    "#This high unit value would skew the results towards a higher AOV value, due to the relatively high revenue"
   ]
  },
  {
   "cell_type": "code",
   "execution_count": 366,
   "metadata": {},
   "outputs": [
    {
     "data": {
      "text/plain": [
       "<AxesSubplot:xlabel='shop_id', ylabel='unit_price'>"
      ]
     },
     "execution_count": 366,
     "metadata": {},
     "output_type": "execute_result"
    },
    {
     "data": {
      "image/png": "[encoded data removed]",
      "text/plain": [
       "<Figure size 432x288 with 1 Axes>"
      ]
     },
     "metadata": {
      "needs_background": "light"
     },
     "output_type": "display_data"
    }
   ],
   "source": [
    "#Correcting the data set to exclude the outlier price.\n",
    "data_set_corrected = data_set.loc[data_set.shop_id != 78]\n",
    "data_set_corrected.plot(x ='shop_id', y='unit_price', kind = 'scatter')"
   ]
  },
  {
   "cell_type": "markdown",
   "metadata": {},
   "source": [
    "#For further comparison, I will calculate the standaer deviation for the original data set and compare it to the corrected data set."
   ]
  },
  {
   "cell_type": "code",
   "execution_count": 367,
   "metadata": {},
   "outputs": [
    {
     "name": "stdout",
     "output_type": "stream",
     "text": [
      "The original data unit_price has a standard deviation of: 2441.9637253684546 \n",
      "\n",
      "\n",
      "The corrected data unit_price has a standard deviation of: 31.26021753289639 \n",
      "\n",
      "\n"
     ]
    }
   ],
   "source": [
    "print('The original data unit_price has a standard deviation of:',data_set.std().unit_price,'\\n'*2)\n",
    "print('The corrected data unit_price has a standard deviation of:',data_set_corrected.std().unit_price,'\\n'*2)"
   ]
  },
  {
   "cell_type": "markdown",
   "metadata": {},
   "source": [
    "#The corrected data set now appears more within reason"
   ]
  },
  {
   "cell_type": "markdown",
   "metadata": {},
   "source": [
    "# 3. Analysing the quantity of shoes ordered"
   ]
  },
  {
   "cell_type": "code",
   "execution_count": 368,
   "metadata": {},
   "outputs": [
    {
     "name": "stdout",
     "output_type": "stream",
     "text": [
      "\n",
      "Data set grouped by the total items, counting how many times the same quantity of shoes were purchased:\n",
      "\n",
      " total_items\n",
      "1       1811\n",
      "2       1816\n",
      "3        932\n",
      "4        292\n",
      "5         77\n",
      "6          8\n",
      "8          1\n",
      "2000      17\n",
      "Name: total_items, dtype: int64\n"
     ]
    }
   ],
   "source": [
    "total_items_grouped = data_set_corrected.groupby([\"total_items\"])[\"total_items\"].count()\n",
    "print(\"\\nData set grouped by the total items, counting how many times the same quantity of shoes were purchased:\\n\\n\",total_items_grouped)\n",
    "\n",
    "total_items_grouped = pd.DataFrame(total_items_grouped)\n",
    "#total_items_grouped = total_items_grouped.rename(columns = {total_items:IT}, inplace = False)\n",
    "#print(\"\\nData set grouped by the total items, counting how many times the same quantity of shoes were purchased:\\n\\n\",total_items_grouped)\n",
    "\n",
    "#total_items_grouped.plot(x ='total_items', y='[total_items].count()', kind = 'scatter')\n",
    "#print(len(total_items_grouped))\n",
    "#total_items_groupedplt = data_set.groupby([\"total_items\"])[\"total_items\"].plot(kind = 'scatter')\n"
   ]
  },
  {
   "cell_type": "markdown",
   "metadata": {},
   "source": [
    "#From this data, there appears to be a relatively large quantity of shoes (2000) ordered 17 times,\n",
    "#when compared to the other number of orders ranging from 1 - 8, this data is clearly an outlier\n",
    "#This may be a large retailer that buys a fixed amount of shoes with every purchace\n",
    "#Analysing the date data did not show a trend in the order dates, but showed that they ordered the same quantity each time.\n",
    "#I will plot the total_items against the unit price and shop id\n",
    "#Note: I intuitively chose user_id here because the users are placing the orders\n",
    "#I tested this plot with other values, such as unit_cost and shop_id and decided the user_id showed the data best"
   ]
  },
  {
   "cell_type": "code",
   "execution_count": 369,
   "metadata": {},
   "outputs": [
    {
     "data": {
      "text/plain": [
       "<AxesSubplot:xlabel='shop_id', ylabel='total_items'>"
      ]
     },
     "execution_count": 369,
     "metadata": {},
     "output_type": "execute_result"
    },
    {
     "data": {
      "image/png": "[encoded data removed]",
      "text/plain": [
       "<Figure size 432x288 with 1 Axes>"
      ]
     },
     "metadata": {
      "needs_background": "light"
     },
     "output_type": "display_data"
    },
    {
     "data": {
      "image/png": "[encoded data removed]",
      "text/plain": [
       "<Figure size 432x288 with 1 Axes>"
      ]
     },
     "metadata": {
      "needs_background": "light"
     },
     "output_type": "display_data"
    }
   ],
   "source": [
    "data_set_corrected.plot(x ='user_id', y='total_items', kind = 'scatter')\n",
    "data_set_corrected.plot(x ='shop_id', y='total_items', kind = 'scatter')"
   ]
  },
  {
   "cell_type": "code",
   "execution_count": 370,
   "metadata": {},
   "outputs": [
    {
     "name": "stdout",
     "output_type": "stream",
     "text": [
      "user_id\n",
      "607    17\n",
      "Name: total_items, dtype: int64 \n",
      "\n",
      "shop_id\n",
      "42    17\n",
      "Name: total_items, dtype: int64 \n",
      "\n",
      "user_id  shop_id\n",
      "607      42         17\n",
      "Name: total_items, dtype: int64 \n",
      "\n"
     ]
    }
   ],
   "source": [
    "#I will now exclude the data from the data set and group by the shop_id and user_id respectively\n",
    "total_items_large = data_set_corrected.loc[data_set_corrected.total_items == 2000]\n",
    "\n",
    "total_items_large_groupedu = total_items_large.groupby([\"user_id\"])[\"total_items\"].count()\n",
    "total_items_large_groupeds = total_items_large.groupby([\"shop_id\"])[\"total_items\"].count()\n",
    "total_items_large_groupedus = total_items_large.groupby([\"user_id\", \"shop_id\"])[\"total_items\"].count()\n",
    "\n",
    "print(total_items_large_groupedu,'\\n')\n",
    "print(total_items_large_groupeds,'\\n')\n",
    "print(total_items_large_groupedus,'\\n')"
   ]
  },
  {
   "cell_type": "markdown",
   "metadata": {},
   "source": [
    "#Inspecting the data further in excel, looking at the total_items column, one thing to notice is the large total_items ordered come from a single shop ID 42, and user ID 607, \n",
    "\n",
    "#Given that all these orders were from a single store, it could be that these orders were made by a customer that regularly buys the same amount of shoes wholesale as previously mentioned\n",
    "\n",
    "#It is important to note that this shop sold at other quantities to other customers, and only user 607 ordered such a large amount each time.\n",
    "\n",
    "#thus using this customer to calculate the AOV or other groth tracking values (such as the modal value) will skew the data higher\n",
    "#As such, I have decided to also exclude it from the data set.\n",
    "\n",
    "#I will now filter for where the total_items ordered is 2000 exclude this data, which is also where user_id is 607"
   ]
  },
  {
   "cell_type": "code",
   "execution_count": 371,
   "metadata": {},
   "outputs": [],
   "source": [
    "data_set_corrected2 = data_set_corrected.loc[data_set_corrected.user_id != 607]"
   ]
  },
  {
   "cell_type": "markdown",
   "metadata": {},
   "source": [
    "#I will now compare the standard deviation of the total_items from the previous data set to this data set"
   ]
  },
  {
   "cell_type": "code",
   "execution_count": 376,
   "metadata": {},
   "outputs": [
    {
     "name": "stdout",
     "output_type": "stream",
     "text": [
      "The previous data total_items has a standard deviation of: 116.85728599309454 \n",
      "\n",
      "\n",
      "The corrected data total_items has a standard deviation of: 0.9828207382187315 \n",
      "\n",
      "\n"
     ]
    }
   ],
   "source": [
    "print('The previous data total_items has a standard deviation of:',data_set_corrected.std().total_items,'\\n'*2)\n",
    "print('The corrected data total_items has a standard deviation of:',data_set_corrected2.std().total_items,'\\n'*2)"
   ]
  },
  {
   "cell_type": "markdown",
   "metadata": {},
   "source": [
    "#The standard deviation is much less after the data is corrected, this shows the closeness in values of the total items after the large total items has been excluded"
   ]
  },
  {
   "cell_type": "markdown",
   "metadata": {},
   "source": [
    "#The AOV can now be calculated with this \"incorrrect\" data excluded"
   ]
  },
  {
   "cell_type": "code",
   "execution_count": 377,
   "metadata": {},
   "outputs": [
    {
     "name": "stdout",
     "output_type": "stream",
     "text": [
      "\n",
      "The new AOV after the data has been cleaned up is:\n",
      " 302.58051448247926\n"
     ]
    }
   ],
   "source": [
    "#recalculate the AOV\n",
    "AOV_corrected2 = (sum(data_set_corrected2.iloc[:,3])) / len(data_set_corrected2)\n",
    "\n",
    "print(\"\"\"\\nThe new AOV after the data has been cleaned up is:\\n\"\"\", AOV_corrected2)\n"
   ]
  },
  {
   "cell_type": "markdown",
   "metadata": {},
   "source": [
    "#In summary, the issue with the data set appears to be abnormally high unit costs from a single shop, as well as abnormally high orders from a single customer."
   ]
  },
  {
   "cell_type": "markdown",
   "metadata": {},
   "source": [
    "# Supplimental analysis\n",
    "\n",
    "#Below, is some analysis of the data sets at different levels show how the relationship between data changes as the data is cleaned up, using the mean, median and mode."
   ]
  },
  {
   "cell_type": "code",
   "execution_count": 378,
   "metadata": {},
   "outputs": [
    {
     "name": "stdout",
     "output_type": "stream",
     "text": [
      "From the original data set:\n",
      "\n",
      "The mean of the order amount and total item columns respectively:\n",
      "Mean order amount:\n",
      "3145.128\n",
      "\n",
      "Mean total items ordered:\n",
      "8.7872\n",
      "\n",
      "\n",
      "The median of the order amount and total item columns respectively:\n",
      "\n",
      "Median order amount:\n",
      "284.0\n",
      "\n",
      "Median total items ordered:\n",
      "2.0\n",
      "\n",
      "\n",
      "The mode of the order amount and total item columns respectively:\n",
      "Mode order amount:\n",
      "153.0\n",
      "\n",
      "Mode total items ordered:\n",
      "2.0\n",
      "\n",
      "------------------------------ \n",
      "\n",
      "\n",
      "From the inital data correction, excluding only the high priced shoes of 25725\n",
      "\n",
      "\n",
      "The mean of the order amount and total item columns respectively:\n",
      "Mean order amount:\n",
      "2717.3677836092047\n",
      "\n",
      "Mean total items ordered:\n",
      "8.851029471134437\n",
      "\n",
      "\n",
      "The median of the order amount and total item columns respectively:\n",
      "\n",
      "Median order amount:\n",
      "284.0\n",
      "\n",
      "Median total items ordered:\n",
      "2.0\n",
      "\n",
      "\n",
      "The mode of the order amount and total item columns respectively:\n",
      "Mode order amount:\n",
      "153.0\n",
      "\n",
      "Mode total items ordered:\n",
      "2.0\n",
      "\n",
      "------------------------------ \n",
      "\n",
      "\n",
      "From the final data correction, excluding the high unit price of 25725, and high number items orderd, 2000:\n",
      "\n",
      "\n",
      "The mean of the order amount and total item columns respectively:\n",
      "Mean order amount:\n",
      "302.58051448247926\n",
      "\n",
      "Mean total items ordered:\n",
      "1.9947336439133077\n",
      "\n",
      "\n",
      "The median of the order amount and total item columns respectively:\n",
      "\n",
      "Median order amount:\n",
      "284.0\n",
      "\n",
      "Median total items ordered:\n",
      "2.0\n",
      "\n",
      "\n",
      "The mode of the order amount and total item columns respectively:\n",
      "Mode order amount:\n",
      "153.0\n",
      "\n",
      "Mode total items ordered:\n",
      "2.0\n",
      "\n"
     ]
    }
   ],
   "source": [
    "mean_data_set = data_set.mean(axis = 0)\n",
    "median_data_set = data_set.median()\n",
    "mode_data_set = data_set.mode()\n",
    "\n",
    "print(\"From the original data set:\\n\")\n",
    "print(f\"\"\"The mean of the order amount and total item columns respectively:\n",
    "Mean order amount:\\n{mean_data_set.order_amount}\n",
    "\\nMean total items ordered:\\n{mean_data_set.total_items}\\n\"\"\")\n",
    "\n",
    "print(f\"\"\"\\nThe median of the order amount and total item columns respectively:\n",
    "\\nMedian order amount:\\n{median_data_set.order_amount}\n",
    "\\nMedian total items ordered:\\n{median_data_set.total_items}\\n\"\"\")\n",
    "\n",
    "print(f\"\"\"\\nThe mode of the order amount and total item columns respectively:\n",
    "Mode order amount:\\n{mode_data_set.order_amount[0]}\n",
    "\\nMode total items ordered:\\n{mode_data_set.total_items[0]}\\n\"\"\")\n",
    "\n",
    "print('-'*30,'\\n'*2)\n",
    "\n",
    "mean_data_set_corrected = data_set_corrected.mean(axis = 0)\n",
    "median_data_set_corrected = data_set_corrected.median(axis = 0)\n",
    "mode_data_set_corrected = data_set_corrected.mode(axis = 0)\n",
    "\n",
    "print(\"From the inital data correction, excluding only the high priced shoes of 25725\\n\")\n",
    "print(f\"\"\"\\nThe mean of the order amount and total item columns respectively:\n",
    "Mean order amount:\\n{mean_data_set_corrected.order_amount}\n",
    "\\nMean total items ordered:\\n{mean_data_set_corrected.total_items}\\n\"\"\")\n",
    "\n",
    "print(f\"\"\"\\nThe median of the order amount and total item columns respectively:\n",
    "\\nMedian order amount:\\n{median_data_set_corrected.order_amount}\n",
    "\\nMedian total items ordered:\\n{median_data_set_corrected.total_items}\\n\"\"\")\n",
    "\n",
    "print(f\"\"\"\\nThe mode of the order amount and total item columns respectively:\n",
    "Mode order amount:\\n{mode_data_set_corrected.order_amount[0]}\n",
    "\\nMode total items ordered:\\n{mode_data_set_corrected.total_items[0]}\\n\"\"\")\n",
    "\n",
    "print('-'*30,'\\n'*2)\n",
    "mean_data_set_corrected2 = data_set_corrected2.mean(axis = 0)\n",
    "median_data_set_corrected2 = data_set_corrected2.median(axis = 0)\n",
    "mode_data_set_corrected2 = data_set_corrected2.mode()\n",
    "\n",
    "print(\"From the final data correction, excluding the high unit price of 25725, and high number items orderd, 2000:\\n\")\n",
    "\n",
    "print(f\"\"\"\\nThe mean of the order amount and total item columns respectively:\n",
    "Mean order amount:\\n{mean_data_set_corrected2.order_amount}\n",
    "\\nMean total items ordered:\\n{mean_data_set_corrected2.total_items}\\n\"\"\")\n",
    "\n",
    "print(f\"\"\"\\nThe median of the order amount and total item columns respectively:\n",
    "\\nMedian order amount:\\n{median_data_set_corrected2.order_amount}\n",
    "\\nMedian total items ordered:\\n{median_data_set_corrected2.total_items}\\n\"\"\")\n",
    "\n",
    "print(f\"\"\"\\nThe mode of the order amount and total item columns respectively:\n",
    "Mode order amount:\\n{mode_data_set_corrected2.order_amount[0]}\n",
    "\\nMode total items ordered:\\n{mode_data_set_corrected2.total_items[0]}\\n\"\"\")\n"
   ]
  },
  {
   "cell_type": "markdown",
   "metadata": {},
   "source": [
    "#From the values above, the Mode and Median values remained the same regardless of the data set.\n",
    "\n",
    "#This is because the outliers were much less than the total data set, as such did not affect the mode and median\n",
    "\n",
    "#On the other hand, due to the way Mean is calculated, there is a vast difference in all 3 values\n",
    "\n",
    "#For this data set, using the median or mode, without correcting the data will give fairly accurate results, while the mean would not."
   ]
  }
 ],
 "metadata": {
  "kernelspec": {
   "display_name": "Python 3",
   "language": "python",
   "name": "python3"
  },
  "language_info": {
   "codemirror_mode": {
    "name": "ipython",
    "version": 3
   },
   "file_extension": ".py",
   "mimetype": "text/x-python",
   "name": "python",
   "nbconvert_exporter": "python",
   "pygments_lexer": "ipython3",
   "version": "3.8.5"
  }
 },
 "nbformat": 4,
 "nbformat_minor": 4
}
